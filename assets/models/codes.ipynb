{
 "cells": [
  {
   "cell_type": "code",
   "execution_count": 13,
   "metadata": {},
   "outputs": [
    {
     "name": "stdout",
     "output_type": "stream",
     "text": [
      "centereid [0. 0. 0.]\n",
      "Minimum point:  [-1.367188 -0.984375 -0.851562]\n",
      "Maximum point:  [1.367188 0.984375 0.851562]\n"
     ]
    }
   ],
   "source": [
    "# %pip install trimesh\n",
    "import trimesh\n",
    "import numpy as np\n",
    "\n",
    "def find_bounding_box(obj_file_path):\n",
    "    # Load the mesh from the .obj file\n",
    "    mesh = trimesh.load_mesh(obj_file_path)\n",
    "\n",
    "    # Compute the bounding box\n",
    "    bounding_box = mesh.bounds\n",
    "\n",
    "    return bounding_box\n",
    "\n",
    "# Path to your .obj file\n",
    "obj_file_path = 'monkey.obj'\n",
    "\n",
    "# Find the bounding box\n",
    "bounding_box = find_bounding_box(obj_file_path)\n",
    "print(\"centereid\",np.mean(bounding_box, axis=0))\n",
    "# Print the bounding box coordinates\n",
    "print(\"Minimum point: \", bounding_box[0])\n",
    "print(\"Maximum point: \", bounding_box[1])\n"
   ]
  },
  {
   "cell_type": "code",
   "execution_count": 59,
   "metadata": {},
   "outputs": [],
   "source": [
    "import trimesh\n",
    "\n",
    "import numpy as np\n",
    "# %pip install pywavefront\n",
    "from pywavefront import Wavefront\n",
    "import numpy as np\n",
    "import trimesh\n",
    "\n",
    "def center_obj(obj_file_path):\n",
    "    # Load the mesh from the .obj file\n",
    "    mesh = trimesh.load_mesh(obj_file_path)\n",
    "\n",
    "    # Calculate the centroid of the bounding box\n",
    "    centroid = np.mean(mesh.bounds, axis=0)\n",
    "\n",
    "    # read the file again and change the vertex coordinates to be centered\n",
    "    # all the vertices are stored in the vertices array in lines starting with 'v '\n",
    "    centered_obj_file = obj_file_path.split('.')[0] + '_centered.obj'\n",
    "    file2 = open(centered_obj_file, 'w')\n",
    "    with open(obj_file_path, 'r') as file:\n",
    "        filedata = file.read()\n",
    "        for line in filedata.splitlines():\n",
    "            if line.startswith('v '):\n",
    "                vertex = line.split()\n",
    "                vertex[1] = str(float(vertex[1]) - centroid[0])\n",
    "                vertex[2] = str(float(vertex[2]) - centroid[1])\n",
    "                vertex[3] = str(float(vertex[3]) - centroid[2])\n",
    "                line = ' '.join(vertex)\n",
    "            file2.write(line + '\\n')\n",
    "    file2.close()\n",
    "\n",
    "\n",
    "# Path to your .obj file\n",
    "obj_file_path = 'duck.obj'\n",
    "\n",
    "# Center the obj at the origin\n",
    "center_obj(obj_file_path)\n",
    "\n",
    "\n"
   ]
  }
 ],
 "metadata": {
  "kernelspec": {
   "display_name": "base",
   "language": "python",
   "name": "python3"
  },
  "language_info": {
   "codemirror_mode": {
    "name": "ipython",
    "version": 3
   },
   "file_extension": ".py",
   "mimetype": "text/x-python",
   "name": "python",
   "nbconvert_exporter": "python",
   "pygments_lexer": "ipython3",
   "version": "3.9.13"
  },
  "orig_nbformat": 4
 },
 "nbformat": 4,
 "nbformat_minor": 2
}
