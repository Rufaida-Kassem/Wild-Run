{
 "cells": [
  {
   "cell_type": "code",
   "execution_count": 13,
   "metadata": {},
   "outputs": [
    {
     "name": "stdout",
     "output_type": "stream",
     "text": [
      "centereid [0. 0. 0.]\n",
      "Minimum point:  [-1.367188 -0.984375 -0.851562]\n",
      "Maximum point:  [1.367188 0.984375 0.851562]\n"
     ]
    }
   ],
   "source": [
    "# %pip install trimesh\n",
    "import trimesh\n",
    "import numpy as np\n",
    "\n",
    "def find_bounding_box(obj_file_path):\n",
    "    # Load the mesh from the .obj file\n",
    "    mesh = trimesh.load_mesh(obj_file_path)\n",
    "\n",
    "    # Compute the bounding box\n",
    "    bounding_box = mesh.bounds\n",
    "\n",
    "    return bounding_box\n",
    "\n",
    "# Path to your .obj file\n",
    "obj_file_path = 'monkey.obj'\n",
    "\n",
    "# Find the bounding box\n",
    "bounding_box = find_bounding_box(obj_file_path)\n",
    "print(\"centereid\",np.mean(bounding_box, axis=0))\n",
    "# Print the bounding box coordinates\n",
    "print(\"Minimum point: \", bounding_box[0])\n",
    "print(\"Maximum point: \", bounding_box[1])\n"
   ]
  },
  {
   "cell_type": "code",
   "execution_count": 10,
   "metadata": {},
   "outputs": [
    {
     "name": "stdout",
     "output_type": "stream",
     "text": [
      "Minimum point:  [-11.3446  -13.3201   -4.86155]\n",
      "Maximum point:  [11.3446  13.3201   4.86155]\n"
     ]
    }
   ],
   "source": [
    "import trimesh\n",
    "\n",
    "def center_obj(obj_file_path):\n",
    "    # Load the mesh from the .obj file\n",
    "    mesh = trimesh.load_mesh(obj_file_path)\n",
    "\n",
    "    # Calculate the centroid of the bounding box\n",
    "    centroid = np.mean(mesh.bounds, axis=0)\n",
    "    # centroid = mesh.centroid\n",
    "\n",
    "    # Translate the mesh to center it at the origin\n",
    "    translated_mesh = mesh.apply_translation(-centroid)\n",
    "    # rewrite the mesh to the same file folowed by _centered\n",
    "    translated_mesh.export(obj_file_path[:-4] + '_centered.obj')\n",
    "    return translated_mesh\n",
    "\n",
    "# Path to your .obj file\n",
    "obj_file_path = '20446_Sea_Turtle_v1 Textured.obj'\n",
    "\n",
    "# Center the obj at the origin\n",
    "centered_mesh = center_obj(obj_file_path)\n",
    "\n",
    "# Find the bounding box of the centered obj\n",
    "bounding_box = centered_mesh.bounds\n",
    "\n",
    "# Print the bounding box coordinates\n",
    "print(\"Minimum point: \", bounding_box[0])\n",
    "print(\"Maximum point: \", bounding_box[1])\n"
   ]
  }
 ],
 "metadata": {
  "kernelspec": {
   "display_name": "base",
   "language": "python",
   "name": "python3"
  },
  "language_info": {
   "codemirror_mode": {
    "name": "ipython",
    "version": 3
   },
   "file_extension": ".py",
   "mimetype": "text/x-python",
   "name": "python",
   "nbconvert_exporter": "python",
   "pygments_lexer": "ipython3",
   "version": "3.9.13"
  },
  "orig_nbformat": 4
 },
 "nbformat": 4,
 "nbformat_minor": 2
}
