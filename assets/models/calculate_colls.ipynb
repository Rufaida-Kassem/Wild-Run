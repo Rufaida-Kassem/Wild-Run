{
 "cells": [
  {
   "cell_type": "code",
   "execution_count": 4,
   "metadata": {},
   "outputs": [
    {
     "name": "stdout",
     "output_type": "stream",
     "text": [
      "Minimum point:  [ -0.860241 -13.08602   -7.759509]\n",
      "Maximum point:  [ 0.860243 12.991392  0.698207]\n"
     ]
    }
   ],
   "source": [
    "#%pip install trimesh\n",
    "import trimesh\n",
    "\n",
    "def find_bounding_box(obj_file_path):\n",
    "    # Load the mesh from the .obj file\n",
    "    mesh = trimesh.load_mesh(obj_file_path)\n",
    "\n",
    "    # Compute the bounding box\n",
    "    bounding_box = mesh.bounds\n",
    "\n",
    "    return bounding_box\n",
    "\n",
    "# Path to your .obj file\n",
    "obj_file_path = 'monkey.obj'\n",
    "\n",
    "# Find the bounding box\n",
    "bounding_box = find_bounding_box(obj_file_path)\n",
    "\n",
    "# Print the bounding box coordinates\n",
    "print(\"Minimum point: \", bounding_box[0])\n",
    "print(\"Maximum point: \", bounding_box[1])\n"
   ]
  },
  {
   "cell_type": "code",
   "execution_count": null,
   "metadata": {},
   "outputs": [],
   "source": []
  }
 ],
 "metadata": {
  "kernelspec": {
   "display_name": "base",
   "language": "python",
   "name": "python3"
  },
  "language_info": {
   "codemirror_mode": {
    "name": "ipython",
    "version": 3
   },
   "file_extension": ".py",
   "mimetype": "text/x-python",
   "name": "python",
   "nbconvert_exporter": "python",
   "pygments_lexer": "ipython3",
   "version": "3.10.1"
  },
  "orig_nbformat": 4
 },
 "nbformat": 4,
 "nbformat_minor": 2
}
