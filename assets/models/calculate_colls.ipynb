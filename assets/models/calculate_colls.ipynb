{
 "cells": [
  {
   "cell_type": "code",
   "execution_count": 10,
   "metadata": {},
   "outputs": [
    {
     "name": "stdout",
     "output_type": "stream",
     "text": [
      "Minimum point:  [-0.09883  0.      -0.01172]\n",
      "Maximum point:  [0.09961 0.2     0.0125 ]\n"
     ]
    }
   ],
   "source": [
    "# %pip install trimesh\n",
    "import trimesh\n",
    "\n",
    "def find_bounding_box(obj_file_path):\n",
    "    # Load the mesh from the .obj file\n",
    "    mesh = trimesh.load_mesh(obj_file_path)\n",
    "\n",
    "    # Compute the bounding box\n",
    "    bounding_box = mesh.bounds\n",
    "\n",
    "    return bounding_box\n",
    "\n",
    "# Path to your .obj file\n",
    "obj_file_path = 'yellowCoin.obj'\n",
    "\n",
    "# Find the bounding box\n",
    "bounding_box = find_bounding_box(obj_file_path)\n",
    "\n",
    "# Print the bounding box coordinates\n",
    "print(\"Minimum point: \", bounding_box[0])\n",
    "print(\"Maximum point: \", bounding_box[1])\n"
   ]
  }
 ],
 "metadata": {
  "kernelspec": {
   "display_name": "base",
   "language": "python",
   "name": "python3"
  },
  "language_info": {
   "codemirror_mode": {
    "name": "ipython",
    "version": 3
   },
   "file_extension": ".py",
   "mimetype": "text/x-python",
   "name": "python",
   "nbconvert_exporter": "python",
   "pygments_lexer": "ipython3",
   "version": "3.9.13"
  },
  "orig_nbformat": 4
 },
 "nbformat": 4,
 "nbformat_minor": 2
}
